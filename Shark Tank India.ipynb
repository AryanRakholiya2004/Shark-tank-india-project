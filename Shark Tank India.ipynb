{
 "cells": [
  {
   "cell_type": "code",
   "execution_count": 151,
   "metadata": {},
   "outputs": [],
   "source": [
    "import pandas as pd"
   ]
  },
  {
   "cell_type": "code",
   "execution_count": 152,
   "metadata": {},
   "outputs": [],
   "source": [
    "# pd.set_option('display.max_rows',None)"
   ]
  },
  {
   "cell_type": "code",
   "execution_count": 153,
   "metadata": {},
   "outputs": [
    {
     "name": "stdout",
     "output_type": "stream",
     "text": [
      "<class 'pandas.core.frame.DataFrame'>\n",
      "RangeIndex: 478 entries, 0 to 477\n",
      "Data columns (total 78 columns):\n",
      " #   Column                     Non-Null Count  Dtype  \n",
      "---  ------                     --------------  -----  \n",
      " 0   Season Number              478 non-null    int64  \n",
      " 1   Startup Name               478 non-null    object \n",
      " 2   Episode Number             478 non-null    int64  \n",
      " 3   Pitch Number               478 non-null    int64  \n",
      " 4   Season Start               478 non-null    object \n",
      " 5   Season End                 478 non-null    object \n",
      " 6   Original Air Date          447 non-null    object \n",
      " 7   Episode Title              478 non-null    object \n",
      " 8   Anchor                     478 non-null    object \n",
      " 9   Industry                   478 non-null    object \n",
      " 10  Business Description       478 non-null    object \n",
      " 11  Company Website            466 non-null    object \n",
      " 12  Started in                 355 non-null    float64\n",
      " 13  Number of Presenters       478 non-null    int64  \n",
      " 14  Male Presenters            412 non-null    float64\n",
      " 15  Female Presenters          226 non-null    float64\n",
      " 16  Transgender Presenters     3 non-null      float64\n",
      " 17  Couple Presenters          473 non-null    float64\n",
      " 18  Pitchers Average Age       478 non-null    object \n",
      " 19  Pitchers City              473 non-null    object \n",
      " 20  Pitchers State             474 non-null    object \n",
      " 21  Yearly Revenue             241 non-null    float64\n",
      " 22  Monthly Sales              225 non-null    float64\n",
      " 23  Gross Margin               129 non-null    float64\n",
      " 24  Net Margin                 73 non-null     float64\n",
      " 25  EBITDA                     23 non-null     float64\n",
      " 26  Cash Burn                  64 non-null     object \n",
      " 27  SKUs                       28 non-null     float64\n",
      " 28  Has Patents                43 non-null     object \n",
      " 29  Bootstrapped               48 non-null     object \n",
      " 30  Original Ask Amount        478 non-null    float64\n",
      " 31  Original Offered Equity    478 non-null    float64\n",
      " 32  Valuation Requested        478 non-null    float64\n",
      " 33  Received Offer             478 non-null    int64  \n",
      " 34  Accepted Offer             321 non-null    float64\n",
      " 35  Total Deal Amount          268 non-null    float64\n",
      " 36  Total Deal Equity          268 non-null    float64\n",
      " 37  Total Deal Debt            62 non-null     float64\n",
      " 38  Debt Interest              45 non-null     float64\n",
      " 39  Deal Valuation             267 non-null    float64\n",
      " 40  Number of Sharks in Deal   268 non-null    float64\n",
      " 41  Deal Has Conditions        26 non-null     object \n",
      " 42  Royalty Deal               17 non-null     float64\n",
      " 43  Advisory Shares Equity     3 non-null      float64\n",
      " 44  Namita Investment Amount   89 non-null     float64\n",
      " 45  Namita Investment Equity   89 non-null     float64\n",
      " 46  Namita Debt Amount         17 non-null     float64\n",
      " 47  Vineeta Investment Amount  68 non-null     float64\n",
      " 48  Vineeta Investment Equity  68 non-null     float64\n",
      " 49  Vineeta Debt Amount        12 non-null     float64\n",
      " 50  Anupam Investment Amount   75 non-null     float64\n",
      " 51  Anupam Investment Equity   75 non-null     float64\n",
      " 52  Anupam Debt Amount         8 non-null      float64\n",
      " 53  Aman Investment Amount     109 non-null    float64\n",
      " 54  Aman Investment Equity     109 non-null    float64\n",
      " 55  Aman Debt Amount           18 non-null     float64\n",
      " 56  Peyush Investment Amount   89 non-null     float64\n",
      " 57  Peyush Investment Equity   89 non-null     float64\n",
      " 58  Peyush Debt Amount         12 non-null     float64\n",
      " 59  Amit Investment Amount     35 non-null     float64\n",
      " 60  Amit Investment Equity     35 non-null     float64\n",
      " 61  Amit Debt Amount           7 non-null      float64\n",
      " 62  Ashneer Investment Amount  21 non-null     float64\n",
      " 63  Ashneer Investment Equity  21 non-null     float64\n",
      " 64  Ashneer Debt Amount        2 non-null      float64\n",
      " 65  Guest Investment Amount    48 non-null     float64\n",
      " 66  Guest Investment Equity    48 non-null     float64\n",
      " 67  Guest Debt Amount          9 non-null      float64\n",
      " 68  Invested Guest Name        48 non-null     object \n",
      " 69  All Guest Names            144 non-null    object \n",
      " 70  Namita Present             389 non-null    float64\n",
      " 71  Vineeta Present            318 non-null    float64\n",
      " 72  Anupam Present             424 non-null    float64\n",
      " 73  Aman Present               420 non-null    float64\n",
      " 74  Peyush Present             307 non-null    float64\n",
      " 75  Amit Present               137 non-null    float64\n",
      " 76  Ashneer Present            99 non-null     float64\n",
      " 77  Guest Present              144 non-null    float64\n",
      "dtypes: float64(55), int64(5), object(18)\n",
      "memory usage: 291.4+ KB\n"
     ]
    }
   ],
   "source": [
    "df = pd.read_csv('Shark Tank India.csv')\n",
    "df.info()"
   ]
  },
  {
   "cell_type": "code",
   "execution_count": 154,
   "metadata": {},
   "outputs": [
    {
     "data": {
      "text/html": [
       "<div>\n",
       "<style scoped>\n",
       "    .dataframe tbody tr th:only-of-type {\n",
       "        vertical-align: middle;\n",
       "    }\n",
       "\n",
       "    .dataframe tbody tr th {\n",
       "        vertical-align: top;\n",
       "    }\n",
       "\n",
       "    .dataframe thead th {\n",
       "        text-align: right;\n",
       "    }\n",
       "</style>\n",
       "<table border=\"1\" class=\"dataframe\">\n",
       "  <thead>\n",
       "    <tr style=\"text-align: right;\">\n",
       "      <th></th>\n",
       "      <th>Season Number</th>\n",
       "      <th>Startup Name</th>\n",
       "      <th>Episode Number</th>\n",
       "      <th>Pitch Number</th>\n",
       "      <th>Season Start</th>\n",
       "      <th>Season End</th>\n",
       "      <th>Original Air Date</th>\n",
       "      <th>Episode Title</th>\n",
       "      <th>Anchor</th>\n",
       "      <th>Industry</th>\n",
       "      <th>...</th>\n",
       "      <th>Invested Guest Name</th>\n",
       "      <th>All Guest Names</th>\n",
       "      <th>Namita Present</th>\n",
       "      <th>Vineeta Present</th>\n",
       "      <th>Anupam Present</th>\n",
       "      <th>Aman Present</th>\n",
       "      <th>Peyush Present</th>\n",
       "      <th>Amit Present</th>\n",
       "      <th>Ashneer Present</th>\n",
       "      <th>Guest Present</th>\n",
       "    </tr>\n",
       "  </thead>\n",
       "  <tbody>\n",
       "    <tr>\n",
       "      <th>299</th>\n",
       "      <td>2</td>\n",
       "      <td>ZSportsTech</td>\n",
       "      <td>46</td>\n",
       "      <td>300</td>\n",
       "      <td>02-Jan-23</td>\n",
       "      <td>10-Mar-23</td>\n",
       "      <td>06-Mar-23</td>\n",
       "      <td>Different Colours Of Entrepreneurship</td>\n",
       "      <td>Rahul Dua</td>\n",
       "      <td>Sports</td>\n",
       "      <td>...</td>\n",
       "      <td>NaN</td>\n",
       "      <td>NaN</td>\n",
       "      <td>1.0</td>\n",
       "      <td>1.0</td>\n",
       "      <td>1.0</td>\n",
       "      <td>1.0</td>\n",
       "      <td>1.0</td>\n",
       "      <td>NaN</td>\n",
       "      <td>NaN</td>\n",
       "      <td>NaN</td>\n",
       "    </tr>\n",
       "    <tr>\n",
       "      <th>422</th>\n",
       "      <td>3</td>\n",
       "      <td>Sorich</td>\n",
       "      <td>34</td>\n",
       "      <td>423</td>\n",
       "      <td>22-Jan-24</td>\n",
       "      <td>31-Mar-24</td>\n",
       "      <td>07-Mar-24</td>\n",
       "      <td>Visionary Brands Shine Bright</td>\n",
       "      <td>Rahul Dua</td>\n",
       "      <td>Food</td>\n",
       "      <td>...</td>\n",
       "      <td>NaN</td>\n",
       "      <td>Azhar Iqubal</td>\n",
       "      <td>NaN</td>\n",
       "      <td>1.0</td>\n",
       "      <td>1.0</td>\n",
       "      <td>1.0</td>\n",
       "      <td>1.0</td>\n",
       "      <td>NaN</td>\n",
       "      <td>NaN</td>\n",
       "      <td>1.0</td>\n",
       "    </tr>\n",
       "    <tr>\n",
       "      <th>133</th>\n",
       "      <td>1</td>\n",
       "      <td>StanleeIndia</td>\n",
       "      <td>0</td>\n",
       "      <td>134</td>\n",
       "      <td>20-Dec-21</td>\n",
       "      <td>04-Feb-22</td>\n",
       "      <td>NaN</td>\n",
       "      <td>Unseen</td>\n",
       "      <td>Rannvijay Singh</td>\n",
       "      <td>Electronics</td>\n",
       "      <td>...</td>\n",
       "      <td>NaN</td>\n",
       "      <td>NaN</td>\n",
       "      <td>NaN</td>\n",
       "      <td>NaN</td>\n",
       "      <td>NaN</td>\n",
       "      <td>NaN</td>\n",
       "      <td>NaN</td>\n",
       "      <td>NaN</td>\n",
       "      <td>NaN</td>\n",
       "      <td>NaN</td>\n",
       "    </tr>\n",
       "    <tr>\n",
       "      <th>141</th>\n",
       "      <td>1</td>\n",
       "      <td>Tathastulive</td>\n",
       "      <td>0</td>\n",
       "      <td>142</td>\n",
       "      <td>20-Dec-21</td>\n",
       "      <td>04-Feb-22</td>\n",
       "      <td>NaN</td>\n",
       "      <td>Unseen</td>\n",
       "      <td>Rannvijay Singh</td>\n",
       "      <td>Services</td>\n",
       "      <td>...</td>\n",
       "      <td>NaN</td>\n",
       "      <td>NaN</td>\n",
       "      <td>NaN</td>\n",
       "      <td>NaN</td>\n",
       "      <td>NaN</td>\n",
       "      <td>NaN</td>\n",
       "      <td>NaN</td>\n",
       "      <td>NaN</td>\n",
       "      <td>NaN</td>\n",
       "      <td>NaN</td>\n",
       "    </tr>\n",
       "    <tr>\n",
       "      <th>387</th>\n",
       "      <td>3</td>\n",
       "      <td>Artinci</td>\n",
       "      <td>23</td>\n",
       "      <td>388</td>\n",
       "      <td>22-Jan-24</td>\n",
       "      <td>31-Mar-24</td>\n",
       "      <td>21-Feb-24</td>\n",
       "      <td>Celebrating Entrepreneurial Breakthroughs</td>\n",
       "      <td>Rahul Dua</td>\n",
       "      <td>Food</td>\n",
       "      <td>...</td>\n",
       "      <td>NaN</td>\n",
       "      <td>NaN</td>\n",
       "      <td>1.0</td>\n",
       "      <td>1.0</td>\n",
       "      <td>1.0</td>\n",
       "      <td>1.0</td>\n",
       "      <td>1.0</td>\n",
       "      <td>NaN</td>\n",
       "      <td>NaN</td>\n",
       "      <td>NaN</td>\n",
       "    </tr>\n",
       "  </tbody>\n",
       "</table>\n",
       "<p>5 rows × 78 columns</p>\n",
       "</div>"
      ],
      "text/plain": [
       "     Season Number  Startup Name  Episode Number  Pitch Number Season Start  \\\n",
       "299              2   ZSportsTech              46           300    02-Jan-23   \n",
       "422              3        Sorich              34           423    22-Jan-24   \n",
       "133              1  StanleeIndia               0           134    20-Dec-21   \n",
       "141              1  Tathastulive               0           142    20-Dec-21   \n",
       "387              3       Artinci              23           388    22-Jan-24   \n",
       "\n",
       "    Season End Original Air Date                              Episode Title  \\\n",
       "299  10-Mar-23         06-Mar-23      Different Colours Of Entrepreneurship   \n",
       "422  31-Mar-24         07-Mar-24              Visionary Brands Shine Bright   \n",
       "133  04-Feb-22               NaN                                     Unseen   \n",
       "141  04-Feb-22               NaN                                     Unseen   \n",
       "387  31-Mar-24         21-Feb-24  Celebrating Entrepreneurial Breakthroughs   \n",
       "\n",
       "              Anchor     Industry  ... Invested Guest Name All Guest Names  \\\n",
       "299        Rahul Dua       Sports  ...                 NaN             NaN   \n",
       "422        Rahul Dua         Food  ...                 NaN    Azhar Iqubal   \n",
       "133  Rannvijay Singh  Electronics  ...                 NaN             NaN   \n",
       "141  Rannvijay Singh     Services  ...                 NaN             NaN   \n",
       "387        Rahul Dua         Food  ...                 NaN             NaN   \n",
       "\n",
       "     Namita Present  Vineeta Present  Anupam Present  Aman Present  \\\n",
       "299             1.0              1.0             1.0           1.0   \n",
       "422             NaN              1.0             1.0           1.0   \n",
       "133             NaN              NaN             NaN           NaN   \n",
       "141             NaN              NaN             NaN           NaN   \n",
       "387             1.0              1.0             1.0           1.0   \n",
       "\n",
       "     Peyush Present  Amit Present Ashneer Present Guest Present  \n",
       "299             1.0           NaN             NaN           NaN  \n",
       "422             1.0           NaN             NaN           1.0  \n",
       "133             NaN           NaN             NaN           NaN  \n",
       "141             NaN           NaN             NaN           NaN  \n",
       "387             1.0           NaN             NaN           NaN  \n",
       "\n",
       "[5 rows x 78 columns]"
      ]
     },
     "execution_count": 154,
     "metadata": {},
     "output_type": "execute_result"
    }
   ],
   "source": [
    "df.sample(5)"
   ]
  },
  {
   "cell_type": "code",
   "execution_count": 155,
   "metadata": {},
   "outputs": [
    {
     "data": {
      "text/plain": [
       "0"
      ]
     },
     "execution_count": 155,
     "metadata": {},
     "output_type": "execute_result"
    }
   ],
   "source": [
    "df.duplicated().sum()"
   ]
  },
  {
   "cell_type": "code",
   "execution_count": 156,
   "metadata": {},
   "outputs": [
    {
     "data": {
      "text/plain": [
       "Season Number       0.000000\n",
       "Startup Name        0.000000\n",
       "Episode Number      0.000000\n",
       "Pitch Number        0.000000\n",
       "Season Start        0.000000\n",
       "                     ...    \n",
       "Aman Present       12.133891\n",
       "Peyush Present     35.774059\n",
       "Amit Present       71.338912\n",
       "Ashneer Present    79.288703\n",
       "Guest Present      69.874477\n",
       "Length: 78, dtype: float64"
      ]
     },
     "execution_count": 156,
     "metadata": {},
     "output_type": "execute_result"
    }
   ],
   "source": [
    "df.isnull().sum() / df.shape[0]*100"
   ]
  },
  {
   "cell_type": "code",
   "execution_count": 157,
   "metadata": {},
   "outputs": [
    {
     "data": {
      "text/plain": [
       "20305"
      ]
     },
     "execution_count": 157,
     "metadata": {},
     "output_type": "execute_result"
    }
   ],
   "source": [
    "df.isnull().sum().sum()"
   ]
  },
  {
   "cell_type": "code",
   "execution_count": 158,
   "metadata": {},
   "outputs": [
    {
     "name": "stderr",
     "output_type": "stream",
     "text": [
      "C:\\Users\\Aryan\\AppData\\Local\\Temp\\ipykernel_14884\\2986338455.py:1: SettingWithCopyWarning: \n",
      "A value is trying to be set on a copy of a slice from a DataFrame\n",
      "\n",
      "See the caveats in the documentation: https://pandas.pydata.org/pandas-docs/stable/user_guide/indexing.html#returning-a-view-versus-a-copy\n",
      "  df[df.select_dtypes('object').columns].fillna(df[df.select_dtypes('object').columns].mode(),inplace=True)\n"
     ]
    }
   ],
   "source": [
    "df[df.select_dtypes('object').columns].fillna(df[df.select_dtypes('object').columns].mode(),inplace=True)"
   ]
  },
  {
   "cell_type": "code",
   "execution_count": 159,
   "metadata": {},
   "outputs": [
    {
     "name": "stdout",
     "output_type": "stream",
     "text": [
      "<class 'pandas.core.frame.DataFrame'>\n",
      "RangeIndex: 478 entries, 0 to 477\n",
      "Data columns (total 78 columns):\n",
      " #   Column                     Non-Null Count  Dtype  \n",
      "---  ------                     --------------  -----  \n",
      " 0   Season Number              478 non-null    int64  \n",
      " 1   Startup Name               478 non-null    object \n",
      " 2   Episode Number             478 non-null    int64  \n",
      " 3   Pitch Number               478 non-null    int64  \n",
      " 4   Season Start               478 non-null    object \n",
      " 5   Season End                 478 non-null    object \n",
      " 6   Original Air Date          447 non-null    object \n",
      " 7   Episode Title              478 non-null    object \n",
      " 8   Anchor                     478 non-null    object \n",
      " 9   Industry                   478 non-null    object \n",
      " 10  Business Description       478 non-null    object \n",
      " 11  Company Website            466 non-null    object \n",
      " 12  Started in                 355 non-null    float64\n",
      " 13  Number of Presenters       478 non-null    int64  \n",
      " 14  Male Presenters            412 non-null    float64\n",
      " 15  Female Presenters          226 non-null    float64\n",
      " 16  Transgender Presenters     3 non-null      float64\n",
      " 17  Couple Presenters          473 non-null    float64\n",
      " 18  Pitchers Average Age       478 non-null    object \n",
      " 19  Pitchers City              473 non-null    object \n",
      " 20  Pitchers State             474 non-null    object \n",
      " 21  Yearly Revenue             241 non-null    float64\n",
      " 22  Monthly Sales              225 non-null    float64\n",
      " 23  Gross Margin               129 non-null    float64\n",
      " 24  Net Margin                 73 non-null     float64\n",
      " 25  EBITDA                     23 non-null     float64\n",
      " 26  Cash Burn                  64 non-null     object \n",
      " 27  SKUs                       28 non-null     float64\n",
      " 28  Has Patents                43 non-null     object \n",
      " 29  Bootstrapped               48 non-null     object \n",
      " 30  Original Ask Amount        478 non-null    float64\n",
      " 31  Original Offered Equity    478 non-null    float64\n",
      " 32  Valuation Requested        478 non-null    float64\n",
      " 33  Received Offer             478 non-null    int64  \n",
      " 34  Accepted Offer             321 non-null    float64\n",
      " 35  Total Deal Amount          268 non-null    float64\n",
      " 36  Total Deal Equity          268 non-null    float64\n",
      " 37  Total Deal Debt            62 non-null     float64\n",
      " 38  Debt Interest              45 non-null     float64\n",
      " 39  Deal Valuation             267 non-null    float64\n",
      " 40  Number of Sharks in Deal   268 non-null    float64\n",
      " 41  Deal Has Conditions        26 non-null     object \n",
      " 42  Royalty Deal               17 non-null     float64\n",
      " 43  Advisory Shares Equity     3 non-null      float64\n",
      " 44  Namita Investment Amount   89 non-null     float64\n",
      " 45  Namita Investment Equity   89 non-null     float64\n",
      " 46  Namita Debt Amount         17 non-null     float64\n",
      " 47  Vineeta Investment Amount  68 non-null     float64\n",
      " 48  Vineeta Investment Equity  68 non-null     float64\n",
      " 49  Vineeta Debt Amount        12 non-null     float64\n",
      " 50  Anupam Investment Amount   75 non-null     float64\n",
      " 51  Anupam Investment Equity   75 non-null     float64\n",
      " 52  Anupam Debt Amount         8 non-null      float64\n",
      " 53  Aman Investment Amount     109 non-null    float64\n",
      " 54  Aman Investment Equity     109 non-null    float64\n",
      " 55  Aman Debt Amount           18 non-null     float64\n",
      " 56  Peyush Investment Amount   89 non-null     float64\n",
      " 57  Peyush Investment Equity   89 non-null     float64\n",
      " 58  Peyush Debt Amount         12 non-null     float64\n",
      " 59  Amit Investment Amount     35 non-null     float64\n",
      " 60  Amit Investment Equity     35 non-null     float64\n",
      " 61  Amit Debt Amount           7 non-null      float64\n",
      " 62  Ashneer Investment Amount  21 non-null     float64\n",
      " 63  Ashneer Investment Equity  21 non-null     float64\n",
      " 64  Ashneer Debt Amount        2 non-null      float64\n",
      " 65  Guest Investment Amount    48 non-null     float64\n",
      " 66  Guest Investment Equity    48 non-null     float64\n",
      " 67  Guest Debt Amount          9 non-null      float64\n",
      " 68  Invested Guest Name        48 non-null     object \n",
      " 69  All Guest Names            144 non-null    object \n",
      " 70  Namita Present             389 non-null    float64\n",
      " 71  Vineeta Present            318 non-null    float64\n",
      " 72  Anupam Present             424 non-null    float64\n",
      " 73  Aman Present               420 non-null    float64\n",
      " 74  Peyush Present             307 non-null    float64\n",
      " 75  Amit Present               137 non-null    float64\n",
      " 76  Ashneer Present            99 non-null     float64\n",
      " 77  Guest Present              144 non-null    float64\n",
      "dtypes: float64(55), int64(5), object(18)\n",
      "memory usage: 291.4+ KB\n"
     ]
    }
   ],
   "source": [
    "df.info()"
   ]
  },
  {
   "cell_type": "code",
   "execution_count": 160,
   "metadata": {},
   "outputs": [
    {
     "data": {
      "text/plain": [
       "Index(['Season Number', 'Startup Name', 'Episode Number', 'Pitch Number',\n",
       "       'Season Start', 'Season End', 'Original Air Date', 'Episode Title',\n",
       "       'Anchor', 'Industry', 'Business Description', 'Company Website',\n",
       "       'Started in', 'Number of Presenters', 'Male Presenters',\n",
       "       'Female Presenters', 'Transgender Presenters', 'Couple Presenters',\n",
       "       'Pitchers Average Age', 'Pitchers City', 'Pitchers State',\n",
       "       'Yearly Revenue', 'Monthly Sales', 'Gross Margin', 'Net Margin',\n",
       "       'EBITDA', 'Cash Burn', 'SKUs', 'Has Patents', 'Bootstrapped',\n",
       "       'Original Ask Amount', 'Original Offered Equity', 'Valuation Requested',\n",
       "       'Received Offer', 'Accepted Offer', 'Total Deal Amount',\n",
       "       'Total Deal Equity', 'Total Deal Debt', 'Debt Interest',\n",
       "       'Deal Valuation', 'Number of Sharks in Deal', 'Deal Has Conditions',\n",
       "       'Royalty Deal', 'Advisory Shares Equity', 'Namita Investment Amount',\n",
       "       'Namita Investment Equity', 'Namita Debt Amount',\n",
       "       'Vineeta Investment Amount', 'Vineeta Investment Equity',\n",
       "       'Vineeta Debt Amount', 'Anupam Investment Amount',\n",
       "       'Anupam Investment Equity', 'Anupam Debt Amount',\n",
       "       'Aman Investment Amount', 'Aman Investment Equity', 'Aman Debt Amount',\n",
       "       'Peyush Investment Amount', 'Peyush Investment Equity',\n",
       "       'Peyush Debt Amount', 'Amit Investment Amount',\n",
       "       'Amit Investment Equity', 'Amit Debt Amount',\n",
       "       'Ashneer Investment Amount', 'Ashneer Investment Equity',\n",
       "       'Ashneer Debt Amount', 'Guest Investment Amount',\n",
       "       'Guest Investment Equity', 'Guest Debt Amount', 'Invested Guest Name',\n",
       "       'All Guest Names', 'Namita Present', 'Vineeta Present',\n",
       "       'Anupam Present', 'Aman Present', 'Peyush Present', 'Amit Present',\n",
       "       'Ashneer Present', 'Guest Present'],\n",
       "      dtype='object')"
      ]
     },
     "execution_count": 160,
     "metadata": {},
     "output_type": "execute_result"
    }
   ],
   "source": [
    "df.columns"
   ]
  },
  {
   "cell_type": "code",
   "execution_count": 161,
   "metadata": {},
   "outputs": [],
   "source": [
    "df.drop(columns=['Season Number','Episode Number', 'Pitch Number',\n",
    "       'Season Start', 'Season End', 'Original Air Date', 'Episode Title',\n",
    "       'Anchor', 'Namita Present', 'Vineeta Present',\n",
    "       'Anupam Present', 'Aman Present', 'Peyush Present', 'Amit Present',\n",
    "       'Ashneer Present', 'Guest Present'],inplace=True)"
   ]
  },
  {
   "cell_type": "code",
   "execution_count": 162,
   "metadata": {},
   "outputs": [
    {
     "name": "stdout",
     "output_type": "stream",
     "text": [
      "<class 'pandas.core.frame.DataFrame'>\n",
      "RangeIndex: 478 entries, 0 to 477\n",
      "Data columns (total 62 columns):\n",
      " #   Column                     Non-Null Count  Dtype  \n",
      "---  ------                     --------------  -----  \n",
      " 0   Startup Name               478 non-null    object \n",
      " 1   Industry                   478 non-null    object \n",
      " 2   Business Description       478 non-null    object \n",
      " 3   Company Website            466 non-null    object \n",
      " 4   Started in                 355 non-null    float64\n",
      " 5   Number of Presenters       478 non-null    int64  \n",
      " 6   Male Presenters            412 non-null    float64\n",
      " 7   Female Presenters          226 non-null    float64\n",
      " 8   Transgender Presenters     3 non-null      float64\n",
      " 9   Couple Presenters          473 non-null    float64\n",
      " 10  Pitchers Average Age       478 non-null    object \n",
      " 11  Pitchers City              473 non-null    object \n",
      " 12  Pitchers State             474 non-null    object \n",
      " 13  Yearly Revenue             241 non-null    float64\n",
      " 14  Monthly Sales              225 non-null    float64\n",
      " 15  Gross Margin               129 non-null    float64\n",
      " 16  Net Margin                 73 non-null     float64\n",
      " 17  EBITDA                     23 non-null     float64\n",
      " 18  Cash Burn                  64 non-null     object \n",
      " 19  SKUs                       28 non-null     float64\n",
      " 20  Has Patents                43 non-null     object \n",
      " 21  Bootstrapped               48 non-null     object \n",
      " 22  Original Ask Amount        478 non-null    float64\n",
      " 23  Original Offered Equity    478 non-null    float64\n",
      " 24  Valuation Requested        478 non-null    float64\n",
      " 25  Received Offer             478 non-null    int64  \n",
      " 26  Accepted Offer             321 non-null    float64\n",
      " 27  Total Deal Amount          268 non-null    float64\n",
      " 28  Total Deal Equity          268 non-null    float64\n",
      " 29  Total Deal Debt            62 non-null     float64\n",
      " 30  Debt Interest              45 non-null     float64\n",
      " 31  Deal Valuation             267 non-null    float64\n",
      " 32  Number of Sharks in Deal   268 non-null    float64\n",
      " 33  Deal Has Conditions        26 non-null     object \n",
      " 34  Royalty Deal               17 non-null     float64\n",
      " 35  Advisory Shares Equity     3 non-null      float64\n",
      " 36  Namita Investment Amount   89 non-null     float64\n",
      " 37  Namita Investment Equity   89 non-null     float64\n",
      " 38  Namita Debt Amount         17 non-null     float64\n",
      " 39  Vineeta Investment Amount  68 non-null     float64\n",
      " 40  Vineeta Investment Equity  68 non-null     float64\n",
      " 41  Vineeta Debt Amount        12 non-null     float64\n",
      " 42  Anupam Investment Amount   75 non-null     float64\n",
      " 43  Anupam Investment Equity   75 non-null     float64\n",
      " 44  Anupam Debt Amount         8 non-null      float64\n",
      " 45  Aman Investment Amount     109 non-null    float64\n",
      " 46  Aman Investment Equity     109 non-null    float64\n",
      " 47  Aman Debt Amount           18 non-null     float64\n",
      " 48  Peyush Investment Amount   89 non-null     float64\n",
      " 49  Peyush Investment Equity   89 non-null     float64\n",
      " 50  Peyush Debt Amount         12 non-null     float64\n",
      " 51  Amit Investment Amount     35 non-null     float64\n",
      " 52  Amit Investment Equity     35 non-null     float64\n",
      " 53  Amit Debt Amount           7 non-null      float64\n",
      " 54  Ashneer Investment Amount  21 non-null     float64\n",
      " 55  Ashneer Investment Equity  21 non-null     float64\n",
      " 56  Ashneer Debt Amount        2 non-null      float64\n",
      " 57  Guest Investment Amount    48 non-null     float64\n",
      " 58  Guest Investment Equity    48 non-null     float64\n",
      " 59  Guest Debt Amount          9 non-null      float64\n",
      " 60  Invested Guest Name        48 non-null     object \n",
      " 61  All Guest Names            144 non-null    object \n",
      "dtypes: float64(47), int64(2), object(13)\n",
      "memory usage: 231.7+ KB\n"
     ]
    }
   ],
   "source": [
    "df.info()"
   ]
  },
  {
   "cell_type": "code",
   "execution_count": 163,
   "metadata": {},
   "outputs": [
    {
     "data": {
      "text/plain": [
       "18688"
      ]
     },
     "execution_count": 163,
     "metadata": {},
     "output_type": "execute_result"
    }
   ],
   "source": [
    "df.isnull().sum().sum()"
   ]
  },
  {
   "cell_type": "code",
   "execution_count": 164,
   "metadata": {},
   "outputs": [
    {
     "data": {
      "text/plain": [
       "(478, 62)"
      ]
     },
     "execution_count": 164,
     "metadata": {},
     "output_type": "execute_result"
    }
   ],
   "source": [
    "df.shape"
   ]
  },
  {
   "cell_type": "code",
   "execution_count": 165,
   "metadata": {},
   "outputs": [
    {
     "data": {
      "text/html": [
       "<div>\n",
       "<style scoped>\n",
       "    .dataframe tbody tr th:only-of-type {\n",
       "        vertical-align: middle;\n",
       "    }\n",
       "\n",
       "    .dataframe tbody tr th {\n",
       "        vertical-align: top;\n",
       "    }\n",
       "\n",
       "    .dataframe thead th {\n",
       "        text-align: right;\n",
       "    }\n",
       "</style>\n",
       "<table border=\"1\" class=\"dataframe\">\n",
       "  <thead>\n",
       "    <tr style=\"text-align: right;\">\n",
       "      <th></th>\n",
       "      <th>Startup Name</th>\n",
       "      <th>Industry</th>\n",
       "      <th>Business Description</th>\n",
       "      <th>Company Website</th>\n",
       "      <th>Started in</th>\n",
       "      <th>Number of Presenters</th>\n",
       "      <th>Male Presenters</th>\n",
       "      <th>Female Presenters</th>\n",
       "      <th>Transgender Presenters</th>\n",
       "      <th>Couple Presenters</th>\n",
       "      <th>...</th>\n",
       "      <th>Amit Investment Equity</th>\n",
       "      <th>Amit Debt Amount</th>\n",
       "      <th>Ashneer Investment Amount</th>\n",
       "      <th>Ashneer Investment Equity</th>\n",
       "      <th>Ashneer Debt Amount</th>\n",
       "      <th>Guest Investment Amount</th>\n",
       "      <th>Guest Investment Equity</th>\n",
       "      <th>Guest Debt Amount</th>\n",
       "      <th>Invested Guest Name</th>\n",
       "      <th>All Guest Names</th>\n",
       "    </tr>\n",
       "  </thead>\n",
       "  <tbody>\n",
       "    <tr>\n",
       "      <th>216</th>\n",
       "      <td>Broomees</td>\n",
       "      <td>Services</td>\n",
       "      <td>Helpers homemakers for your home</td>\n",
       "      <td>https://broomees.com/</td>\n",
       "      <td>NaN</td>\n",
       "      <td>3</td>\n",
       "      <td>2.0</td>\n",
       "      <td>1.0</td>\n",
       "      <td>NaN</td>\n",
       "      <td>0.0</td>\n",
       "      <td>...</td>\n",
       "      <td>NaN</td>\n",
       "      <td>NaN</td>\n",
       "      <td>NaN</td>\n",
       "      <td>NaN</td>\n",
       "      <td>NaN</td>\n",
       "      <td>NaN</td>\n",
       "      <td>NaN</td>\n",
       "      <td>NaN</td>\n",
       "      <td>NaN</td>\n",
       "      <td>NaN</td>\n",
       "    </tr>\n",
       "    <tr>\n",
       "      <th>467</th>\n",
       "      <td>KioskKaffee</td>\n",
       "      <td>Liquor/Beverages</td>\n",
       "      <td>Premium Coffee</td>\n",
       "      <td>https://kiosk-kaffee.com/</td>\n",
       "      <td>2020.0</td>\n",
       "      <td>3</td>\n",
       "      <td>3.0</td>\n",
       "      <td>NaN</td>\n",
       "      <td>NaN</td>\n",
       "      <td>0.0</td>\n",
       "      <td>...</td>\n",
       "      <td>NaN</td>\n",
       "      <td>NaN</td>\n",
       "      <td>NaN</td>\n",
       "      <td>NaN</td>\n",
       "      <td>NaN</td>\n",
       "      <td>NaN</td>\n",
       "      <td>NaN</td>\n",
       "      <td>NaN</td>\n",
       "      <td>NaN</td>\n",
       "      <td>Azhar Iqubal</td>\n",
       "    </tr>\n",
       "    <tr>\n",
       "      <th>38</th>\n",
       "      <td>Carragreen</td>\n",
       "      <td>Manufacturing</td>\n",
       "      <td>Eco-Friendly boxes</td>\n",
       "      <td>https://carragreen.com/</td>\n",
       "      <td>2018.0</td>\n",
       "      <td>2</td>\n",
       "      <td>NaN</td>\n",
       "      <td>2.0</td>\n",
       "      <td>NaN</td>\n",
       "      <td>0.0</td>\n",
       "      <td>...</td>\n",
       "      <td>NaN</td>\n",
       "      <td>NaN</td>\n",
       "      <td>NaN</td>\n",
       "      <td>NaN</td>\n",
       "      <td>NaN</td>\n",
       "      <td>NaN</td>\n",
       "      <td>NaN</td>\n",
       "      <td>NaN</td>\n",
       "      <td>NaN</td>\n",
       "      <td>NaN</td>\n",
       "    </tr>\n",
       "    <tr>\n",
       "      <th>269</th>\n",
       "      <td>DesmondJi</td>\n",
       "      <td>Liquor/Beverages</td>\n",
       "      <td>Spirits, Liqueurs &amp; Cocktail Blends</td>\n",
       "      <td>NaN</td>\n",
       "      <td>NaN</td>\n",
       "      <td>2</td>\n",
       "      <td>2.0</td>\n",
       "      <td>NaN</td>\n",
       "      <td>NaN</td>\n",
       "      <td>0.0</td>\n",
       "      <td>...</td>\n",
       "      <td>NaN</td>\n",
       "      <td>NaN</td>\n",
       "      <td>NaN</td>\n",
       "      <td>NaN</td>\n",
       "      <td>NaN</td>\n",
       "      <td>NaN</td>\n",
       "      <td>NaN</td>\n",
       "      <td>NaN</td>\n",
       "      <td>NaN</td>\n",
       "      <td>NaN</td>\n",
       "    </tr>\n",
       "    <tr>\n",
       "      <th>240</th>\n",
       "      <td>MindPeers</td>\n",
       "      <td>Medical/Health</td>\n",
       "      <td>For Mental Strength</td>\n",
       "      <td>https://www.mindpeers.co/</td>\n",
       "      <td>NaN</td>\n",
       "      <td>2</td>\n",
       "      <td>1.0</td>\n",
       "      <td>1.0</td>\n",
       "      <td>NaN</td>\n",
       "      <td>0.0</td>\n",
       "      <td>...</td>\n",
       "      <td>NaN</td>\n",
       "      <td>NaN</td>\n",
       "      <td>NaN</td>\n",
       "      <td>NaN</td>\n",
       "      <td>NaN</td>\n",
       "      <td>NaN</td>\n",
       "      <td>NaN</td>\n",
       "      <td>NaN</td>\n",
       "      <td>NaN</td>\n",
       "      <td>NaN</td>\n",
       "    </tr>\n",
       "  </tbody>\n",
       "</table>\n",
       "<p>5 rows × 62 columns</p>\n",
       "</div>"
      ],
      "text/plain": [
       "    Startup Name          Industry                 Business Description  \\\n",
       "216     Broomees          Services     Helpers homemakers for your home   \n",
       "467  KioskKaffee  Liquor/Beverages                       Premium Coffee   \n",
       "38    Carragreen     Manufacturing                   Eco-Friendly boxes   \n",
       "269    DesmondJi  Liquor/Beverages  Spirits, Liqueurs & Cocktail Blends   \n",
       "240    MindPeers    Medical/Health                  For Mental Strength   \n",
       "\n",
       "               Company Website  Started in  Number of Presenters  \\\n",
       "216      https://broomees.com/         NaN                     3   \n",
       "467  https://kiosk-kaffee.com/      2020.0                     3   \n",
       "38     https://carragreen.com/      2018.0                     2   \n",
       "269                        NaN         NaN                     2   \n",
       "240  https://www.mindpeers.co/         NaN                     2   \n",
       "\n",
       "     Male Presenters  Female Presenters  Transgender Presenters  \\\n",
       "216              2.0                1.0                     NaN   \n",
       "467              3.0                NaN                     NaN   \n",
       "38               NaN                2.0                     NaN   \n",
       "269              2.0                NaN                     NaN   \n",
       "240              1.0                1.0                     NaN   \n",
       "\n",
       "     Couple Presenters  ... Amit Investment Equity Amit Debt Amount  \\\n",
       "216                0.0  ...                    NaN              NaN   \n",
       "467                0.0  ...                    NaN              NaN   \n",
       "38                 0.0  ...                    NaN              NaN   \n",
       "269                0.0  ...                    NaN              NaN   \n",
       "240                0.0  ...                    NaN              NaN   \n",
       "\n",
       "    Ashneer Investment Amount  Ashneer Investment Equity  Ashneer Debt Amount  \\\n",
       "216                       NaN                        NaN                  NaN   \n",
       "467                       NaN                        NaN                  NaN   \n",
       "38                        NaN                        NaN                  NaN   \n",
       "269                       NaN                        NaN                  NaN   \n",
       "240                       NaN                        NaN                  NaN   \n",
       "\n",
       "     Guest Investment Amount  Guest Investment Equity  Guest Debt Amount  \\\n",
       "216                      NaN                      NaN                NaN   \n",
       "467                      NaN                      NaN                NaN   \n",
       "38                       NaN                      NaN                NaN   \n",
       "269                      NaN                      NaN                NaN   \n",
       "240                      NaN                      NaN                NaN   \n",
       "\n",
       "    Invested Guest Name  All Guest Names  \n",
       "216                 NaN              NaN  \n",
       "467                 NaN     Azhar Iqubal  \n",
       "38                  NaN              NaN  \n",
       "269                 NaN              NaN  \n",
       "240                 NaN              NaN  \n",
       "\n",
       "[5 rows x 62 columns]"
      ]
     },
     "execution_count": 165,
     "metadata": {},
     "output_type": "execute_result"
    }
   ],
   "source": [
    "df.sample(5)"
   ]
  },
  {
   "cell_type": "code",
   "execution_count": 166,
   "metadata": {},
   "outputs": [
    {
     "data": {
      "text/plain": [
       "Startup Name                 0\n",
       "Industry                     0\n",
       "Business Description         0\n",
       "Company Website             12\n",
       "Started in                 123\n",
       "                          ... \n",
       "Guest Investment Amount    430\n",
       "Guest Investment Equity    430\n",
       "Guest Debt Amount          469\n",
       "Invested Guest Name        430\n",
       "All Guest Names            334\n",
       "Length: 62, dtype: int64"
      ]
     },
     "execution_count": 166,
     "metadata": {},
     "output_type": "execute_result"
    }
   ],
   "source": [
    "df.isnull().sum()"
   ]
  },
  {
   "cell_type": "code",
   "execution_count": 167,
   "metadata": {},
   "outputs": [
    {
     "data": {
      "text/plain": [
       "Index(['Startup Name', 'Industry', 'Business Description', 'Company Website',\n",
       "       'Pitchers Average Age', 'Pitchers City', 'Pitchers State', 'Cash Burn',\n",
       "       'Has Patents', 'Bootstrapped', 'Deal Has Conditions',\n",
       "       'Invested Guest Name', 'All Guest Names'],\n",
       "      dtype='object')"
      ]
     },
     "execution_count": 167,
     "metadata": {},
     "output_type": "execute_result"
    }
   ],
   "source": [
    "df.select_dtypes('object').columns"
   ]
  },
  {
   "cell_type": "code",
   "execution_count": 168,
   "metadata": {},
   "outputs": [
    {
     "name": "stdout",
     "output_type": "stream",
     "text": [
      "<class 'pandas.core.frame.DataFrame'>\n",
      "RangeIndex: 478 entries, 0 to 477\n",
      "Data columns (total 62 columns):\n",
      " #   Column                     Non-Null Count  Dtype  \n",
      "---  ------                     --------------  -----  \n",
      " 0   Startup Name               478 non-null    object \n",
      " 1   Industry                   478 non-null    object \n",
      " 2   Business Description       478 non-null    object \n",
      " 3   Company Website            466 non-null    object \n",
      " 4   Started in                 355 non-null    float64\n",
      " 5   Number of Presenters       478 non-null    int64  \n",
      " 6   Male Presenters            412 non-null    float64\n",
      " 7   Female Presenters          226 non-null    float64\n",
      " 8   Transgender Presenters     3 non-null      float64\n",
      " 9   Couple Presenters          473 non-null    float64\n",
      " 10  Pitchers Average Age       478 non-null    object \n",
      " 11  Pitchers City              473 non-null    object \n",
      " 12  Pitchers State             474 non-null    object \n",
      " 13  Yearly Revenue             241 non-null    float64\n",
      " 14  Monthly Sales              225 non-null    float64\n",
      " 15  Gross Margin               129 non-null    float64\n",
      " 16  Net Margin                 73 non-null     float64\n",
      " 17  EBITDA                     23 non-null     float64\n",
      " 18  Cash Burn                  64 non-null     object \n",
      " 19  SKUs                       28 non-null     float64\n",
      " 20  Has Patents                43 non-null     object \n",
      " 21  Bootstrapped               48 non-null     object \n",
      " 22  Original Ask Amount        478 non-null    float64\n",
      " 23  Original Offered Equity    478 non-null    float64\n",
      " 24  Valuation Requested        478 non-null    float64\n",
      " 25  Received Offer             478 non-null    int64  \n",
      " 26  Accepted Offer             321 non-null    float64\n",
      " 27  Total Deal Amount          268 non-null    float64\n",
      " 28  Total Deal Equity          268 non-null    float64\n",
      " 29  Total Deal Debt            62 non-null     float64\n",
      " 30  Debt Interest              45 non-null     float64\n",
      " 31  Deal Valuation             267 non-null    float64\n",
      " 32  Number of Sharks in Deal   268 non-null    float64\n",
      " 33  Deal Has Conditions        26 non-null     object \n",
      " 34  Royalty Deal               17 non-null     float64\n",
      " 35  Advisory Shares Equity     3 non-null      float64\n",
      " 36  Namita Investment Amount   89 non-null     float64\n",
      " 37  Namita Investment Equity   89 non-null     float64\n",
      " 38  Namita Debt Amount         17 non-null     float64\n",
      " 39  Vineeta Investment Amount  68 non-null     float64\n",
      " 40  Vineeta Investment Equity  68 non-null     float64\n",
      " 41  Vineeta Debt Amount        12 non-null     float64\n",
      " 42  Anupam Investment Amount   75 non-null     float64\n",
      " 43  Anupam Investment Equity   75 non-null     float64\n",
      " 44  Anupam Debt Amount         8 non-null      float64\n",
      " 45  Aman Investment Amount     109 non-null    float64\n",
      " 46  Aman Investment Equity     109 non-null    float64\n",
      " 47  Aman Debt Amount           18 non-null     float64\n",
      " 48  Peyush Investment Amount   89 non-null     float64\n",
      " 49  Peyush Investment Equity   89 non-null     float64\n",
      " 50  Peyush Debt Amount         12 non-null     float64\n",
      " 51  Amit Investment Amount     35 non-null     float64\n",
      " 52  Amit Investment Equity     35 non-null     float64\n",
      " 53  Amit Debt Amount           7 non-null      float64\n",
      " 54  Ashneer Investment Amount  21 non-null     float64\n",
      " 55  Ashneer Investment Equity  21 non-null     float64\n",
      " 56  Ashneer Debt Amount        2 non-null      float64\n",
      " 57  Guest Investment Amount    48 non-null     float64\n",
      " 58  Guest Investment Equity    48 non-null     float64\n",
      " 59  Guest Debt Amount          9 non-null      float64\n",
      " 60  Invested Guest Name        48 non-null     object \n",
      " 61  All Guest Names            144 non-null    object \n",
      "dtypes: float64(47), int64(2), object(13)\n",
      "memory usage: 231.7+ KB\n"
     ]
    }
   ],
   "source": [
    "df.info()"
   ]
  },
  {
   "cell_type": "code",
   "execution_count": 169,
   "metadata": {},
   "outputs": [],
   "source": [
    "# df.drop(columns=)\n",
    "thrs = df.shape[0] * 0.4"
   ]
  },
  {
   "cell_type": "code",
   "execution_count": 170,
   "metadata": {},
   "outputs": [],
   "source": [
    "df = df.dropna(thresh=thrs, axis=1)"
   ]
  },
  {
   "cell_type": "code",
   "execution_count": 171,
   "metadata": {},
   "outputs": [
    {
     "data": {
      "text/plain": [
       "Startup Name                 0.000000\n",
       "Industry                     0.000000\n",
       "Business Description         0.000000\n",
       "Company Website              2.510460\n",
       "Started in                  25.732218\n",
       "Number of Presenters         0.000000\n",
       "Male Presenters             13.807531\n",
       "Female Presenters           52.719665\n",
       "Couple Presenters            1.046025\n",
       "Pitchers Average Age         0.000000\n",
       "Pitchers City                1.046025\n",
       "Pitchers State               0.836820\n",
       "Yearly Revenue              49.581590\n",
       "Monthly Sales               52.928870\n",
       "Original Ask Amount          0.000000\n",
       "Original Offered Equity      0.000000\n",
       "Valuation Requested          0.000000\n",
       "Received Offer               0.000000\n",
       "Accepted Offer              32.845188\n",
       "Total Deal Amount           43.933054\n",
       "Total Deal Equity           43.933054\n",
       "Deal Valuation              44.142259\n",
       "Number of Sharks in Deal    43.933054\n",
       "dtype: float64"
      ]
     },
     "execution_count": 171,
     "metadata": {},
     "output_type": "execute_result"
    }
   ],
   "source": [
    "df.isnull().sum() / df.shape[0]*100"
   ]
  },
  {
   "cell_type": "code",
   "execution_count": 172,
   "metadata": {},
   "outputs": [],
   "source": [
    "ob_col = df.select_dtypes(\"object\").columns"
   ]
  },
  {
   "cell_type": "code",
   "execution_count": 173,
   "metadata": {},
   "outputs": [],
   "source": [
    "df[ob_col] = df[ob_col].fillna(df[ob_col].mode().iloc[0])\n",
    "# df[ob_col.to_list()].mode().iloc[0]\n",
    "# df[ob_col.to_list()]\n",
    "# ob_col.to_list()"
   ]
  },
  {
   "cell_type": "code",
   "execution_count": 174,
   "metadata": {},
   "outputs": [
    {
     "name": "stdout",
     "output_type": "stream",
     "text": [
      "<class 'pandas.core.frame.DataFrame'>\n",
      "RangeIndex: 478 entries, 0 to 477\n",
      "Data columns (total 23 columns):\n",
      " #   Column                    Non-Null Count  Dtype  \n",
      "---  ------                    --------------  -----  \n",
      " 0   Startup Name              478 non-null    object \n",
      " 1   Industry                  478 non-null    object \n",
      " 2   Business Description      478 non-null    object \n",
      " 3   Company Website           478 non-null    object \n",
      " 4   Started in                355 non-null    float64\n",
      " 5   Number of Presenters      478 non-null    int64  \n",
      " 6   Male Presenters           412 non-null    float64\n",
      " 7   Female Presenters         226 non-null    float64\n",
      " 8   Couple Presenters         473 non-null    float64\n",
      " 9   Pitchers Average Age      478 non-null    object \n",
      " 10  Pitchers City             478 non-null    object \n",
      " 11  Pitchers State            478 non-null    object \n",
      " 12  Yearly Revenue            241 non-null    float64\n",
      " 13  Monthly Sales             225 non-null    float64\n",
      " 14  Original Ask Amount       478 non-null    float64\n",
      " 15  Original Offered Equity   478 non-null    float64\n",
      " 16  Valuation Requested       478 non-null    float64\n",
      " 17  Received Offer            478 non-null    int64  \n",
      " 18  Accepted Offer            321 non-null    float64\n",
      " 19  Total Deal Amount         268 non-null    float64\n",
      " 20  Total Deal Equity         268 non-null    float64\n",
      " 21  Deal Valuation            267 non-null    float64\n",
      " 22  Number of Sharks in Deal  268 non-null    float64\n",
      "dtypes: float64(14), int64(2), object(7)\n",
      "memory usage: 86.0+ KB\n"
     ]
    }
   ],
   "source": [
    "df.info()"
   ]
  },
  {
   "cell_type": "code",
   "execution_count": 175,
   "metadata": {},
   "outputs": [],
   "source": [
    "num_col = df.select_dtypes(['int','float']).columns"
   ]
  },
  {
   "cell_type": "code",
   "execution_count": 176,
   "metadata": {},
   "outputs": [
    {
     "data": {
      "text/plain": [
       "Started in                  2019.000000\n",
       "Number of Presenters           2.000000\n",
       "Male Presenters                1.000000\n",
       "Female Presenters              1.000000\n",
       "Couple Presenters              0.000000\n",
       "Yearly Revenue               170.000000\n",
       "Monthly Sales                 21.000000\n",
       "Original Ask Amount           75.000000\n",
       "Original Offered Equity        2.500000\n",
       "Valuation Requested         2857.071428\n",
       "Received Offer                 1.000000\n",
       "Accepted Offer                 1.000000\n",
       "Total Deal Amount             56.300000\n",
       "Total Deal Equity              5.000000\n",
       "Deal Valuation              1107.692308\n",
       "Number of Sharks in Deal       2.000000\n",
       "dtype: float64"
      ]
     },
     "execution_count": 176,
     "metadata": {},
     "output_type": "execute_result"
    }
   ],
   "source": [
    "# df[num_col] = df[num_col].fillna(df[num_col].median().iloc[0])\n",
    "df[num_col].median()"
   ]
  },
  {
   "cell_type": "code",
   "execution_count": 179,
   "metadata": {},
   "outputs": [
    {
     "data": {
      "text/plain": [
       "Started in                  2018.904225\n",
       "Number of Presenters           2.020921\n",
       "Male Presenters                1.679612\n",
       "Female Presenters              1.199115\n",
       "Couple Presenters              0.177590\n",
       "Yearly Revenue               557.033195\n",
       "Monthly Sales                 68.917253\n",
       "Original Ask Amount          144.451284\n",
       "Original Offered Equity        3.811987\n",
       "Valuation Requested         5245.346384\n",
       "Received Offer                 0.671548\n",
       "Accepted Offer                 0.834891\n",
       "Total Deal Amount             66.177663\n",
       "Total Deal Equity              8.278694\n",
       "Deal Valuation              2280.644650\n",
       "Number of Sharks in Deal       2.011194\n",
       "dtype: float64"
      ]
     },
     "execution_count": 179,
     "metadata": {},
     "output_type": "execute_result"
    }
   ],
   "source": [
    "df[num_col].mean()"
   ]
  },
  {
   "cell_type": "code",
   "execution_count": 177,
   "metadata": {},
   "outputs": [
    {
     "name": "stdout",
     "output_type": "stream",
     "text": [
      "<class 'pandas.core.frame.DataFrame'>\n",
      "RangeIndex: 478 entries, 0 to 477\n",
      "Data columns (total 23 columns):\n",
      " #   Column                    Non-Null Count  Dtype  \n",
      "---  ------                    --------------  -----  \n",
      " 0   Startup Name              478 non-null    object \n",
      " 1   Industry                  478 non-null    object \n",
      " 2   Business Description      478 non-null    object \n",
      " 3   Company Website           478 non-null    object \n",
      " 4   Started in                355 non-null    float64\n",
      " 5   Number of Presenters      478 non-null    int64  \n",
      " 6   Male Presenters           412 non-null    float64\n",
      " 7   Female Presenters         226 non-null    float64\n",
      " 8   Couple Presenters         473 non-null    float64\n",
      " 9   Pitchers Average Age      478 non-null    object \n",
      " 10  Pitchers City             478 non-null    object \n",
      " 11  Pitchers State            478 non-null    object \n",
      " 12  Yearly Revenue            241 non-null    float64\n",
      " 13  Monthly Sales             225 non-null    float64\n",
      " 14  Original Ask Amount       478 non-null    float64\n",
      " 15  Original Offered Equity   478 non-null    float64\n",
      " 16  Valuation Requested       478 non-null    float64\n",
      " 17  Received Offer            478 non-null    int64  \n",
      " 18  Accepted Offer            321 non-null    float64\n",
      " 19  Total Deal Amount         268 non-null    float64\n",
      " 20  Total Deal Equity         268 non-null    float64\n",
      " 21  Deal Valuation            267 non-null    float64\n",
      " 22  Number of Sharks in Deal  268 non-null    float64\n",
      "dtypes: float64(14), int64(2), object(7)\n",
      "memory usage: 86.0+ KB\n"
     ]
    }
   ],
   "source": [
    "df.info()"
   ]
  },
  {
   "cell_type": "code",
   "execution_count": 178,
   "metadata": {},
   "outputs": [
    {
     "data": {
      "text/plain": [
       "Startup Name                  0\n",
       "Industry                      0\n",
       "Business Description          0\n",
       "Company Website               0\n",
       "Started in                  123\n",
       "Number of Presenters          0\n",
       "Male Presenters              66\n",
       "Female Presenters           252\n",
       "Couple Presenters             5\n",
       "Pitchers Average Age          0\n",
       "Pitchers City                 0\n",
       "Pitchers State                0\n",
       "Yearly Revenue              237\n",
       "Monthly Sales               253\n",
       "Original Ask Amount           0\n",
       "Original Offered Equity       0\n",
       "Valuation Requested           0\n",
       "Received Offer                0\n",
       "Accepted Offer              157\n",
       "Total Deal Amount           210\n",
       "Total Deal Equity           210\n",
       "Deal Valuation              211\n",
       "Number of Sharks in Deal    210\n",
       "dtype: int64"
      ]
     },
     "execution_count": 178,
     "metadata": {},
     "output_type": "execute_result"
    }
   ],
   "source": [
    "df.isnull().sum()"
   ]
  },
  {
   "cell_type": "code",
   "execution_count": null,
   "metadata": {},
   "outputs": [],
   "source": []
  }
 ],
 "metadata": {
  "kernelspec": {
   "display_name": "Python 3",
   "language": "python",
   "name": "python3"
  },
  "language_info": {
   "codemirror_mode": {
    "name": "ipython",
    "version": 3
   },
   "file_extension": ".py",
   "mimetype": "text/x-python",
   "name": "python",
   "nbconvert_exporter": "python",
   "pygments_lexer": "ipython3",
   "version": "3.12.1"
  }
 },
 "nbformat": 4,
 "nbformat_minor": 2
}
